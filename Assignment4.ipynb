{
 "cells": [
  {
   "cell_type": "markdown",
   "id": "7df179c8-08ec-480c-a5dd-4238609ceaf9",
   "metadata": {},
   "source": [
    "### Q1.Join Tuples if similar initial element\n",
    "While working with Python tuples, we can have a problem in which we need to perform concatenation of records from the similarity of initial element. This problem can have applications in data domains such as Data Science.\n",
    "\n",
    "For eg.\n",
    "\n",
    "Input  : test_list = [(5, 6), (5, 7), (5, 8), (6, 10), (7, 13)] \n",
    "Output : [(5, 6, 7, 8), (6, 10), (7, 13)] "
   ]
  },
  {
   "cell_type": "code",
   "execution_count": 1,
   "id": "0792ca89-9a2d-46db-b45e-52de074971b7",
   "metadata": {},
   "outputs": [
    {
     "name": "stdout",
     "output_type": "stream",
     "text": [
      "[(5, 6, 7, 8), (6, 10), (7, 13)]\n"
     ]
    }
   ],
   "source": [
    "def join_similar_tuples(test_list):\n",
    "    result = []\n",
    "    temp_dict = {}\n",
    "    \n",
    "    for tup in test_list:\n",
    "        key = tup[0]\n",
    "        if key in temp_dict:\n",
    "            temp_dict[key].extend(tup[1:])\n",
    "        else:\n",
    "            temp_dict[key] = list(tup)\n",
    "    \n",
    "    for key, values in temp_dict.items():\n",
    "        result.append(tuple(values))\n",
    "    \n",
    "    return result\n",
    "\n",
    "# Example usage\n",
    "test_list = [(5, 6), (5, 7), (5, 8), (6, 10), (7, 13)]\n",
    "output = join_similar_tuples(test_list)\n",
    "print(output)  # [(5, 6, 7, 8), (6, 10), (7, 13)]\n"
   ]
  },
  {
   "cell_type": "markdown",
   "id": "473f2a5f-72ab-4049-98de-763c1336f3cb",
   "metadata": {},
   "source": [
    "### `Q2:` Multiply Adjacent elements (both side) and take sum of right and lest side multiplication result. \n"
   ]
  },
  {
   "cell_type": "code",
   "execution_count": 2,
   "id": "0b43d959-66e8-47ad-b84c-0d600e8f30e3",
   "metadata": {},
   "outputs": [
    {
     "name": "stdout",
     "output_type": "stream",
     "text": [
      "110\n"
     ]
    }
   ],
   "source": [
    "def sum_adjacent_multiplications(lst):\n",
    "    result = 0\n",
    "    n = len(lst)\n",
    "\n",
    "    for i in range(n):\n",
    "        left = lst[i - 1] if i > 0 else 1\n",
    "        right = lst[i + 1] if i < n - 1 else 1\n",
    "\n",
    "        result += left * lst[i] * right\n",
    "\n",
    "    return result\n",
    "\n",
    "# Example usage\n",
    "my_list = [2, 3, 4, 5]\n",
    "output = sum_adjacent_multiplications(my_list)\n",
    "print(output)  # Output: 38\n"
   ]
  },
  {
   "cell_type": "markdown",
   "id": "4dd86040-a4e5-4667-8d70-fedd1ce68984",
   "metadata": {},
   "source": [
    "### Q3: Check is tuples are same or not?\n",
    "Two tuples would be same if both tuples have same element at same index\n",
    "\n",
    "t1 = (1,2,3,0)\n",
    "t2 = (0,1,2,3)\n",
    "\n",
    "t1 and t2 are not same"
   ]
  },
  {
   "cell_type": "code",
   "execution_count": 3,
   "id": "204a72d3-1b38-4982-9fee-a58440b38559",
   "metadata": {},
   "outputs": [
    {
     "name": "stdout",
     "output_type": "stream",
     "text": [
      "t1 and t2 are different.\n"
     ]
    }
   ],
   "source": [
    "t1 = (1, 2, 3, 0)\n",
    "t2 = (0, 1, 2, 3)\n",
    "\n",
    "if t1 == t2:\n",
    "    print(\"t1 and t2 are the same.\")\n",
    "else:\n",
    "    print(\"t1 and t2 are different.\")\n"
   ]
  },
  {
   "cell_type": "markdown",
   "id": "fc44fbdb-8a4e-4202-b14a-4bf1c319dc9b",
   "metadata": {},
   "source": [
    "### Q4: Count no of tuples, list and set from a list\n",
    "list1 = [{'hi', 'bye'},{'Genius', 'Wisdom'},('a', 'b'),['hi', 'bye'],['a', 'b']]\n",
    "Output:\n",
    "\n",
    "List-2\n",
    "Set-2\n",
    "Tuples-1"
   ]
  },
  {
   "cell_type": "code",
   "execution_count": 4,
   "id": "f2c02525-0b55-4a97-9956-8a5d1110bf6b",
   "metadata": {},
   "outputs": [
    {
     "name": "stdout",
     "output_type": "stream",
     "text": [
      "List-2\n",
      "Set-2\n",
      "Tuples-1\n"
     ]
    }
   ],
   "source": [
    "list1 = [{'hi', 'bye'}, {'Genius', 'Wisdom'}, ('a', 'b'), ['hi', 'bye'], ['a', 'b']]\n",
    "\n",
    "list_count = 0\n",
    "set_count = 0\n",
    "tuple_count = 0\n",
    "\n",
    "for elem in list1:\n",
    "    if isinstance(elem, list):\n",
    "        list_count += 1\n",
    "    elif isinstance(elem, set):\n",
    "        set_count += 1\n",
    "    elif isinstance(elem, tuple):\n",
    "        tuple_count += 1\n",
    "\n",
    "print(f\"List-{list_count}\")\n",
    "print(f\"Set-{set_count}\")\n",
    "print(f\"Tuples-{tuple_count}\")\n"
   ]
  },
  {
   "cell_type": "markdown",
   "id": "06f21931-207c-4f6b-9152-d50b34696f71",
   "metadata": {},
   "source": [
    "### Q5: Shortlist Students for a Job role\n",
    "Ask user to input students record and store in tuples for each record. Then Ask user to input three things he wants in the candidate- Primary Skill, Higher Education, Year of Graduation.\n",
    "\n",
    "Show every students record in form of tuples if matches all required criteria.\n",
    "\n",
    "It is assumed that there will be only one primry skill.\n",
    "\n",
    "If no such candidate found, print No such candidate"
   ]
  },
  {
   "cell_type": "code",
   "execution_count": 8,
   "id": "30b9f589-ffdc-4659-a17a-92e45379ce63",
   "metadata": {},
   "outputs": [
    {
     "ename": "IndentationError",
     "evalue": "unindent does not match any outer indentation level (<string>, line 4)",
     "output_type": "error",
     "traceback": [
      "\u001b[1;36m  File \u001b[1;32m<string>:4\u001b[1;36m\u001b[0m\n\u001b[1;33m    for i in range(nudents):\u001b[0m\n\u001b[1;37m                            ^\u001b[0m\n\u001b[1;31mIndentationError\u001b[0m\u001b[1;31m:\u001b[0m unindent does not match any outer indentation level\n"
     ]
    }
   ],
   "source": [
    "## def get_student_records(num_student\n",
    "        records \n",
    "    \n",
    "    for i in range(nudents):\n",
    "              name = input(f\"Enter student {i + 1} name: \")\r\n",
    "        primary_skill = input(f\"Enter {name}'s primary skill: \")\r\n",
    "        higher_education = input(f\"Enter {name}'s higher education: \")\r\n",
    "        graduation_year = int(input(f\"Enter {name}'s year of graduation: \"))\r\n",
    "        records.append((name, primary_skill, higher_education, graduat\n",
    "    ear))\r\n",
    "    return records\r\n",
    "\r\n",
    "def shortlist_students(records, target_skill, target_education, target_year):\r\n",
    "    shortlisted_students = []\r\n",
    "    for student in records:\r\n",
    "        name, skill, education, year = student\r\n",
    "        if skill == target_skill and education == target_education and year == target_year:\r\n",
    "            shortlisted_students.append(student)\r\n",
    "    return shortlisted_students\r\n",
    "\r\n",
    "# Input: Number of students\r\n",
    "num_students = int(input(\"Enter the number of student records: \"))\r\n",
    "\r\n",
    "# Get student records\r\n",
    "student_records = get_student_records(num_students)\r\n",
    "\r\n",
    "# User's criteria\r\n",
    "target_primary_skill = input(\"Enter the required primary skill: \")\r\n",
    "target_higher_education = input(\"Enter the required higher education: \")\r\n",
    "target_graduation_year = int(input(\"Enter the required year of graduation: \"))\r\n",
    "\r\n",
    "# Shortlist students\r\n",
    "shortlisted_students = shortlist_students(student_records, target_primary_skill, target_higher_education, target_graduation_year)\r\n",
    "\r\n",
    "# Output\r\n",
    "if shortlisted_students:\r\n",
    "    print(\"Shortlisted students:\")\r\n",
    "    for student in shortlisted_students:\r\n",
    "        print(student)\r\n",
    "else:\r\n",
    "    print(\"No such candidate.\")\r\n"
   ]
  },
  {
   "cell_type": "markdown",
   "id": "f91cfd46-8abf-4582-9a1a-02158327f87d",
   "metadata": {},
   "source": [
    "### Sets:\n"
   ]
  },
  {
   "cell_type": "markdown",
   "id": "71181cc0-1d25-435e-83cc-a1ae404a6cca",
   "metadata": {},
   "source": [
    "### Q1: Write a program to find set of common elements in three lists using sets.\n",
    "Input : ar1 = [1, 5, 10, 20, 40, 80]\n",
    "        ar2 = [6, 7, 20, 80, 100]\n",
    "        ar3 = [3, 4, 15, 20, 30, 70, 80, 120]\n",
    "\n",
    "Output : [80, 20]"
   ]
  },
  {
   "cell_type": "code",
   "execution_count": null,
   "id": "4adba7aa-1e85-4f41-91b9-cb335fa90078",
   "metadata": {},
   "outputs": [],
   "source": [
    "def find_common_elements(list1, list2, list3):\n",
    "    set1 = set(list1)\n",
    "    set2 = set(list2)\n",
    "    set3 = set(list3)\n",
    "    common_set = set1.intersection(set2).intersection(set3)\n",
    "    return list(common_set)\n",
    "\n",
    "ar1 = [1, 5, 10, 20, 40, 80]\n",
    "ar2 = [6, 7, 20, 80, 100]\n",
    "ar3 = [3, 4, 15, 20, 30, 70, 80, 120]\n",
    "\n",
    "common_elements = find_common_elements(ar1, ar2, ar3)\n",
    "print(common_elements)  # Output: [80, 20]\n"
   ]
  },
  {
   "cell_type": "markdown",
   "id": "8d899476-a665-4962-989e-0f0225045183",
   "metadata": {},
   "source": [
    "### Q2: Write a program to count unique number of vowels using sets in a given string. Lowercase and upercase vowels will be taken as different.\n",
    "Input:\n",
    "\n",
    "Str1 = \"hands-on data science mentorship progrAm with live classes at affordable fee only on CampusX\"\n",
    "Output:\n",
    "\n",
    "No of unique vowels-6"
   ]
  },
  {
   "cell_type": "code",
   "execution_count": null,
   "id": "1f6468de-442e-4a8b-b758-5463517087cb",
   "metadata": {},
   "outputs": [],
   "source": [
    "def count_unique_vowels(s):\n",
    "    # Define the set of vowels (both lowercase and uppercase)\n",
    "    vowels = set(\"aeiouAEIOU\")\n",
    "    \n",
    "    # Initialize a set to store unique vowels found in the string\n",
    "    unique_vowels = set()\n",
    "    \n",
    "    # Iterate through each character in the string\n",
    "    for char in s:\n",
    "        if char in vowels:\n",
    "            unique_vowels.add(char)\n",
    "    \n",
    "    # Get the count of unique vowels\n",
    "    num_unique_vowels = len(unique_vowels)\n",
    "    \n",
    "    return num_unique_vowels\n",
    "\n",
    "# Input string\n",
    "Str1 = \"hands-on data science mentorship progrAm with live classes at affordable fee only on CampusX\"\n",
    "\n",
    "# Call the function and print the result\n",
    "result = count_unique_vowels(Str1)\n",
    "print(f\"No of unique vowels: {result}\")\n"
   ]
  },
  {
   "cell_type": "markdown",
   "id": "6a18144f-c5b2-4a9a-a25d-b00e618a4d90",
   "metadata": {},
   "source": [
    "### Q3: Write a program to Check if a given string is binary string of or not.\n",
    "A string is said to be binary if it's consists of only two unique characters.\n",
    "\n",
    "Take string input from user.\n",
    "\n",
    "Input: str = \"01010101010\"\n",
    "Output: Yes\n",
    "\n",
    "Input: str = \"1222211\"\n",
    "Output: Yes\n",
    "\n",
    "Input: str = \"Campusx\"\n",
    "Output: No"
   ]
  },
  {
   "cell_type": "code",
   "execution_count": null,
   "id": "f402518f-ab06-45b8-bf32-90a1c7e16c17",
   "metadata": {},
   "outputs": [],
   "source": [
    "def is_binary_string(s):\n",
    "    char_set = set(s)\n",
    "    return char_set == {'0', '1'} or char_set == {'0'} or char_set == {'1'}\n",
    "\n",
    "# Example usage\n",
    "input_str = \"01010101010\"\n",
    "if is_binary_string(input_str):\n",
    "    print(\"Yes\")\n",
    "else:\n",
    "    print(\"No\")\n"
   ]
  },
  {
   "cell_type": "markdown",
   "id": "0b9c219a-a19b-4933-a36d-9e2ee3bfd52f",
   "metadata": {},
   "source": [
    "### Q4: find union of n arrays.\n",
    "Example 1:\n",
    "\n",
    "Input:\n",
    "\n",
    "[[1, 2, 2, 4, 3, 6],\n",
    " [5, 1, 3, 4],\n",
    " [9, 5, 7, 1],\n",
    " [2, 4, 1, 3]]\n",
    "Output:\n",
    "\n",
    "[1, 2, 3, 4, 5, 6, 7, 9]"
   ]
  },
  {
   "cell_type": "code",
   "execution_count": null,
   "id": "bb7e39c5-82cf-46a4-86b3-a4e75a268fb8",
   "metadata": {},
   "outputs": [],
   "source": [
    "import numpy as np\n",
    "\n",
    "# Input arrays\n",
    "arr1 = [1, 2, 2, 4, 3, 6]\n",
    "arr2 = [5, 1, 3, 4]\n",
    "arr3 = [9, 5, 7, 1]\n",
    "arr4 = [2, 4, 1, 3]\n",
    "\n",
    "# Find the union of all arrays\n",
    "union_result = np.union1d(np.union1d(arr1, arr2), np.union1d(arr3, arr4))\n",
    "\n",
    "print(union_result)\n"
   ]
  },
  {
   "cell_type": "markdown",
   "id": "1ff1d3dd-0c9d-4bc5-8fb0-9f530cdba566",
   "metadata": {},
   "source": [
    "### Q5: Intersection of two lists. Intersection of two list means we need to take all those elements which are common to both of the initial lists and store them into another list. Only use using list-comprehension.\n",
    "Example 1:\n",
    "\n",
    "Input:\n",
    "\n",
    "lst1 = {15, 9, 10, 56, 23, 78, 5, 4, 9}\n",
    "lst2 = {9, 4, 5, 36, 47, 26, 10, 45, 87}\n",
    "Output:\n",
    "\n",
    "[9, 10, 4, 5]"
   ]
  },
  {
   "cell_type": "code",
   "execution_count": null,
   "id": "e91769b4-422f-4453-abac-75f952d182dd",
   "metadata": {},
   "outputs": [],
   "source": [
    "lst1 = {15, 9, 10, 56, 23, 78, 5, 4, 9}\n",
    "lst2 = {9, 4, 5, 36, 47, 26, 10, 45, 87}\n",
    "\n",
    "intersection_result = [x for x in lst1 if x in lst2]\n",
    "print(intersection_result)\n"
   ]
  },
  {
   "cell_type": "markdown",
   "id": "52c8b872-aa90-428e-91d0-d041d5dba86d",
   "metadata": {},
   "source": [
    "### Dictionary"
   ]
  },
  {
   "cell_type": "markdown",
   "id": "694c0ed4-4404-4418-92e1-8910412db1a8",
   "metadata": {},
   "source": [
    "### Q1: Key with maximum unique values\n",
    "Given a dictionary with values list, extract key whose value has most unique values."
   ]
  },
  {
   "cell_type": "code",
   "execution_count": null,
   "id": "dae06a22-b6ad-4a2e-93bc-c3e5305e04f4",
   "metadata": {},
   "outputs": [],
   "source": [
    "test_dict = {\n",
    "    \"Gfg\": [5, 7, 5, 4, 5],\n",
    "    \"is\": [6, 7, 4, 3, 3],\n",
    "    \"Best\": [9, 9, 6, 5, 5]\n",
    "}\n",
    "\n",
    "max_val = 0\n",
    "max_key = None\n",
    "for sub in test_dict:\n",
    "    if len(set(test_dict[sub])) > max_val:\n",
    "        max_val = len(set(test_dict[sub]))\n",
    "        max_key = sub\n",
    "\n",
    "print(\"Key with maximum unique values:\", max_key)\n"
   ]
  },
  {
   "cell_type": "markdown",
   "id": "fc1d78ec-1914-4a40-9c32-b66fc05b5507",
   "metadata": {},
   "source": [
    "### Q2: Replace words from Dictionary. Given String, replace it’s words from lookup dictionary."
   ]
  },
  {
   "cell_type": "code",
   "execution_count": null,
   "id": "d6c27303-95cc-41a3-98ea-b93e62506c8b",
   "metadata": {},
   "outputs": [],
   "source": [
    "def replace_words(test_str, repl_dict):\n",
    "    temp = test_str.split()\n",
    "    res = []\n",
    "    for word in temp:\n",
    "        res.append(repl_dict.get(word, word))\n",
    "    return ' '.join(res)\n",
    "\n",
    "test_str = 'Wisdom is best in the Acedemics'\n",
    "repl_dict = {\"best\": \"good and better\", \"Acedemics\": \"all CS aspirants\"}\n",
    "replaced_strings = replace_words(test_str, repl_dict)\n",
    "print(\"Replaced Strings:\", replaced_strings)\n"
   ]
  },
  {
   "cell_type": "markdown",
   "id": "6703b61e-b5e4-40d5-8350-4b6fda9ac8d9",
   "metadata": {},
   "source": [
    "### Q3: Convert List to List of dictionaries. Given list values and keys list, convert these values to key value pairs in form of list of dictionaries."
   ]
  },
  {
   "cell_type": "code",
   "execution_count": null,
   "id": "030108ec-30c5-409d-8c7f-560264e86f31",
   "metadata": {},
   "outputs": [],
   "source": [
    "def convert_to_list_of_dicts(values, keys):\n",
    "    n = len(values)\n",
    "    result = []\n",
    "    for i in range(0, n, 2):\n",
    "        result.append({keys[0]: values[i], keys[1]: values[i + 1]})\n",
    "    return result\n",
    "\n",
    "values_list = [\"Vishwa\", 3, \"is\", 8, \"Best\", 10, \"for\", 18, \"Wisdom\", 33]\n",
    "keys_list = [\"name\", \"number\"]\n",
    "\n",
    "list_of_dicts = convert_to_list_of_dicts(values_list, keys_list)\n",
    "print(list_of_dicts)\n"
   ]
  },
  {
   "cell_type": "markdown",
   "id": "a48ca55b-f070-4060-b9c5-ea9726bf99af",
   "metadata": {},
   "source": [
    "### Q4: Convert a list of Tuples into Dictionary."
   ]
  },
  {
   "cell_type": "code",
   "execution_count": null,
   "id": "255003da-52a1-4d0c-acd2-bcf20d9d3db9",
   "metadata": {},
   "outputs": [],
   "source": [
    "list_of_tuples = [(\"Vishwa\", 10), (\"Wisdom\", 12), (\"Ghost\", 14), (\"Eren\", 20), (\"Prince\", 25), (\"Joker\", 30)]\n",
    "my_dict = dict(list_of_tuples)\n",
    "print(my_dict)\n"
   ]
  },
  {
   "cell_type": "markdown",
   "id": "5e498e59-c4c0-4b9e-ac49-a8870f2ef13b",
   "metadata": {},
   "source": [
    "### Q5:Sort Dictionary key and values List."
   ]
  },
  {
   "cell_type": "code",
   "execution_count": null,
   "id": "2a54c306-a522-4ce3-a5e3-32a2b6607c13",
   "metadata": {},
   "outputs": [],
   "source": [
    "my_dict = {'ravi': 10, 'rajnish': 9, 'sanjeev': 15, 'yash': 2, 'suraj': 32}\n",
    "sorted_dict = dict(sorted(my_dict.items()))\n",
    "print(sorted_dict)\n",
    "\n"
   ]
  },
  {
   "cell_type": "code",
   "execution_count": null,
   "id": "0482056e-4df6-40c6-a617-fb3acf002d97",
   "metadata": {},
   "outputs": [],
   "source": []
  }
 ],
 "metadata": {
  "kernelspec": {
   "display_name": "Python 3 (ipykernel)",
   "language": "python",
   "name": "python3"
  },
  "language_info": {
   "codemirror_mode": {
    "name": "ipython",
    "version": 3
   },
   "file_extension": ".py",
   "mimetype": "text/x-python",
   "name": "python",
   "nbconvert_exporter": "python",
   "pygments_lexer": "ipython3",
   "version": "3.12.4"
  }
 },
 "nbformat": 4,
 "nbformat_minor": 5
}
